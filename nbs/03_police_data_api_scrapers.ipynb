{
 "cells": [
  {
   "cell_type": "markdown",
   "id": "bf88721d-45a4-4561-a05b-3be183f09cc0",
   "metadata": {},
   "source": [
    "# Scrape Data from the Police Data API"
   ]
  },
  {
   "cell_type": "code",
   "execution_count": null,
   "id": "a1257a98-62df-43d1-a491-c28502de8981",
   "metadata": {},
   "outputs": [],
   "source": [
    "#| default_exp core.police_data_scrapers"
   ]
  },
  {
   "cell_type": "code",
   "execution_count": null,
   "id": "7930096c-e216-4bc2-9674-785a89c32cf3",
   "metadata": {},
   "outputs": [],
   "source": [
    "#| hide\n",
    "from nbdev.showdoc import *"
   ]
  },
  {
   "cell_type": "code",
   "execution_count": null,
   "id": "7167f0b3-c3aa-4fae-a536-f7b01f582371",
   "metadata": {},
   "outputs": [],
   "source": [
    "#| hide\n",
    "#| export\n",
    "import requests\n",
    "import math\n",
    "import pandas as pd"
   ]
  },
  {
   "cell_type": "code",
   "execution_count": null,
   "id": "d2c4cfa6-e44f-4506-a1fc-5e8b6b4dcbc9",
   "metadata": {},
   "outputs": [],
   "source": [
    "#| hide\n",
    "#| export\n",
    "def flatten_list(nested_list):\n",
    "    flattened_list = []\n",
    "    for item in nested_list:\n",
    "        if isinstance(item, list):\n",
    "            flattened_list += flatten_list(item)\n",
    "        else:\n",
    "            if len(flattened_list) % 2 == 1:\n",
    "                flattened_list[-1].append(item)\n",
    "            else:\n",
    "                flattened_list.append([item])\n",
    "    return flattened_list"
   ]
  },
  {
   "cell_type": "code",
   "execution_count": null,
   "id": "a04525b3-2104-4277-826d-f7ffc33cc19c",
   "metadata": {},
   "outputs": [],
   "source": [
    "#| export\n",
    "def get_constituency_coordinates():\n",
    "    \"\"\"\n",
    "    This function was created to make it easier to search the police data api using poly areas rather \n",
    "    than a small area around a single coordinate.\n",
    "    \n",
    "    Returns a dictionary containing very low level poly areas (as a string) which outline a constituency. \n",
    "    The keys are the constituency names.\n",
    "    \"\"\"\n",
    "    url = 'https://nihr.opendatasoft.com/api/records/1.0/search/?dataset=westminster-parliamentary-constituencies&rows=650'\n",
    "    response = requests.get(url)\n",
    "    \n",
    "    if response.status_code == 200:\n",
    "        records = response.json()['records']\n",
    "        constituency_coords = {}\n",
    "\n",
    "        for record in records:\n",
    "            coords = []\n",
    "            name = record['fields']['pcon22nm']\n",
    "            temp_coords = record['fields']['geo_shape']['coordinates']\n",
    "        \n",
    "            temp_coords = flatten_list(temp_coords)\n",
    "        \n",
    "            offset = math.floor(len(temp_coords)/4)\n",
    "            constituency_coords[name] = (str(round(temp_coords[0][1], 3)) + ',' + str(round(temp_coords[0][0], 3)) + ':')\n",
    "            constituency_coords[name] += (str(round(temp_coords[offset][1], 3)) + ',' + str(round(temp_coords[offset][0], 3)) + ':')\n",
    "            constituency_coords[name] += (str(round(temp_coords[offset*2][1], 3)) + ',' + str(round(temp_coords[offset*2][0], 3)) + ':')\n",
    "            constituency_coords[name] += (str(round(temp_coords[offset*3][1], 3)) + ',' + str(round(temp_coords[offset*3][0], 3)))\n",
    "        \n",
    "        return constituency_coords\n",
    "    \n",
    "    else:\n",
    "        return -1\n",
    "        "
   ]
  },
  {
   "cell_type": "code",
   "execution_count": null,
   "id": "df55d7e3-5875-47b9-aaf0-93a1bcac03a3",
   "metadata": {},
   "outputs": [
    {
     "data": {
      "text/plain": [
       "'51.543,-0.017:51.517,-0.034:51.531,-0.066:51.536,-0.044'"
      ]
     },
     "execution_count": null,
     "metadata": {},
     "output_type": "execute_result"
    }
   ],
   "source": [
    "constituency_coords = get_constituency_coordinates()\n",
    "constituency_coords['Bethnal Green and Bow']"
   ]
  },
  {
   "cell_type": "code",
   "execution_count": null,
   "id": "b0ac54f6-d996-44de-b7ae-beb9185ca860",
   "metadata": {},
   "outputs": [],
   "source": [
    "#| export\n",
    "def get_street_level_crimes(location={'lat': 0, 'lng': 0}, # Location needs to be entered as a dictionary.\n",
    "                            date='2023-01', # Date should only include year and month (yyyy-mm) as a string.\n",
    "                            loctype=''):    # Enter poly if using a poly area, leave blank otherwise.\n",
    "    \"\"\"\n",
    "    Won't work if there are more than 10000 crimes in the requested area.\n",
    "\n",
    "    Location by default needs to be entered as follows: {'lat': 51.510, 'lng': -0.118} \n",
    "    which corresponds to Central London.\n",
    "    \n",
    "    The poly area uses lat/lng pairs to define the boundary.\n",
    "    For the poly area to work the location must be entered as a string in \n",
    "    the form [lat],[lng]:[lat],[lng]:[lat],[lng]. \n",
    "    For example: '51.543,-0.017:51.517,-0.034:51.531,-0.066:51.536,-0.044'\n",
    "\n",
    "    Function returns a list of the crimes from a given month within a 1 mile\n",
    "    radius of the location given or within a poly area and the date the data\n",
    "    was last updated. The last updated is the same for the street level crimes\n",
    "    with no locations data as it is all updated at the same time.\n",
    "    \"\"\"\n",
    "    if type(location) == dict:\n",
    "        location = 'lat=' + str(location['lat']) + '&lng=' + str(location['lng'])\n",
    "        url = 'https://data.police.uk/api/crimes-street/all-crime?' + location + '&date=' + date\n",
    "\n",
    "        response = requests.get(url)\n",
    "        if response.status_code == 200:\n",
    "            street_level_crimes = response.json()\n",
    "        else:\n",
    "            street_level_crimes = 'Status code: ' + str(response.status_code)\n",
    "\n",
    "    elif loctype == 'poly':\n",
    "        url = 'https://data.police.uk/api/crimes-street/all-crime?poly=' + location + '&date=' + date\n",
    "\n",
    "        response = requests.get(url)\n",
    "        if response.status_code == 200:\n",
    "            street_level_crimes = response.json()\n",
    "        else:\n",
    "            street_level_crimes = 'Status code: ' + str(response.status_code)\n",
    "\n",
    "    else:\n",
    "        street_level_crimes = \"The location must be entered as a dictionary in the form: \\n{'lat': lat, 'lng': lon}\\n\" + \\\n",
    "        \"or the loctype must be poly\"\n",
    "\n",
    "    update_url = 'https://data.police.uk/api/crime-last-updated'\n",
    "    update_response = requests.get(update_url)\n",
    "    if update_response.status_code == 200:\n",
    "        last_updated = update_response.json()['date']\n",
    "    else:\n",
    "        last_updated = float('NaN')\n",
    "\n",
    "    return street_level_crimes, last_updated"
   ]
  },
  {
   "cell_type": "code",
   "execution_count": null,
   "id": "759ddaf5-0de5-4a41-b4d3-a128c2438aca",
   "metadata": {},
   "outputs": [
    {
     "name": "stdout",
     "output_type": "stream",
     "text": [
      "Last updated: 2023-06-01\n"
     ]
    },
    {
     "data": {
      "text/plain": [
       "{'category': 'anti-social-behaviour',\n",
       " 'location_type': 'Force',\n",
       " 'location': {'latitude': '51.521347',\n",
       "  'street': {'id': 1691892, 'name': 'On or near Commodore Street'},\n",
       "  'longitude': '-0.038142'},\n",
       " 'context': '',\n",
       " 'outcome_status': None,\n",
       " 'persistent_id': '',\n",
       " 'id': 108936078,\n",
       " 'location_subtype': '',\n",
       " 'month': '2023-03'}"
      ]
     },
     "execution_count": null,
     "metadata": {},
     "output_type": "execute_result"
    }
   ],
   "source": [
    "# Search for street level crimes in Bethnal Green and Bow during March 2023 \n",
    "# Show info for the first crime in the list \n",
    "slc, last_updated = get_street_level_crimes(constituency_coords['Bethnal Green and Bow'], '2023-03', 'poly')\n",
    "print('Last updated: ' + last_updated)\n",
    "slc[0]"
   ]
  },
  {
   "cell_type": "code",
   "execution_count": null,
   "id": "2cf7b715-c5bc-4f75-a905-2c53d1560c79",
   "metadata": {},
   "outputs": [],
   "source": [
    "#| export\n",
    "def get_police_forces():\n",
    "    \"\"\"\n",
    "    Returns a list of the police forces in the UK. These are used \n",
    "    in the no_loc functions. The user can search the list for the \n",
    "    relevant force for the area they want to collect data for.\n",
    "    \"\"\"\n",
    "    url = 'https://data.police.uk/api/forces'\n",
    "    response = requests.get(url)\n",
    "    forces = []\n",
    "\n",
    "    if response.status_code == 200:\n",
    "        for force in response.json():\n",
    "            forces.append(force['id'])\n",
    "        return forces\n",
    "    else:\n",
    "        return -1"
   ]
  },
  {
   "cell_type": "code",
   "execution_count": null,
   "id": "d71b8127-7319-4ea7-a838-d695f08b58c3",
   "metadata": {},
   "outputs": [
    {
     "data": {
      "text/plain": [
       "'avon-and-somerset'"
      ]
     },
     "execution_count": null,
     "metadata": {},
     "output_type": "execute_result"
    }
   ],
   "source": [
    "get_police_forces()[0]"
   ]
  },
  {
   "cell_type": "code",
   "execution_count": null,
   "id": "5215e0da-c3e9-4426-b175-9fca83468163",
   "metadata": {},
   "outputs": [],
   "source": [
    "#| export\n",
    "def get_crimes_no_loc(force, date):\n",
    "    \"\"\" \n",
    "    Function to get crimes that don't have a location and therefore we have to \n",
    "    search by police force.\n",
    "    The date should be a string in the form 'yyyy-mm'.\n",
    "    \"\"\"\n",
    "    url = 'https://data.police.uk/api/crimes-no-location?category=all-crime&force=' \\\n",
    "    + force + '&date=' + date\n",
    "\n",
    "    response = requests.get(url)\n",
    "\n",
    "    if response.status_code == 200:\n",
    "        no_loc_crimes = response.json()\n",
    "    else:\n",
    "        no_loc_crimes = 'Status code: ' + str(response.status_code)\n",
    "\n",
    "    return no_loc_crimes"
   ]
  },
  {
   "cell_type": "code",
   "execution_count": null,
   "id": "7d371c82-8ae1-4d2c-ab5a-b850b3912a25",
   "metadata": {},
   "outputs": [
    {
     "data": {
      "text/plain": [
       "{'category': 'bicycle-theft',\n",
       " 'location_type': None,\n",
       " 'location': None,\n",
       " 'context': '',\n",
       " 'outcome_status': {'category': 'Status update unavailable',\n",
       "  'date': '2023-05'},\n",
       " 'persistent_id': '9e103df583547bd9c86be6c7e28851789ca3ee5cfbc0862cb6161cee37b375a8',\n",
       " 'id': 107602689,\n",
       " 'location_subtype': '',\n",
       " 'month': '2023-01'}"
      ]
     },
     "execution_count": null,
     "metadata": {},
     "output_type": "execute_result"
    }
   ],
   "source": [
    "get_crimes_no_loc('avon-and-somerset', '2023-01')[0]"
   ]
  },
  {
   "cell_type": "code",
   "execution_count": null,
   "id": "3b838d69-25b4-4c71-ae41-4287eb8c85e3",
   "metadata": {},
   "outputs": [],
   "source": [
    "#| export\n",
    "def get_stop_searches(location={'lat': 0, 'lng': 0}, # Location needs to be entered as a dictionary.\n",
    "                            date='2023-01', # Date should only include year and month (yyyy-mm) as a string.\n",
    "                            loctype=''):    # Enter poly if using a poly area, leave blank otherwise.\n",
    "    \"\"\"\n",
    "    Gets a list of the stop and searches carried out at the specified location and date.\n",
    "\n",
    "    The arguments follow the same format as the get_street_level_crimes function.\n",
    "    \"\"\"\n",
    "    if type(location) == dict:\n",
    "        location = 'lat=' + str(location['lat']) + '&lng=' + str(location['lng'])\n",
    "        url = 'https://data.police.uk/api/stops-street?' + location + '&date=' + date\n",
    "\n",
    "        response = requests.get(url)\n",
    "        if response.status_code == 200:\n",
    "            stop_searches = response.json()\n",
    "        else:\n",
    "            stop_searches = 'Status code: ' + str(response.status_code)\n",
    "\n",
    "    elif loctype == 'poly':\n",
    "        url = 'https://data.police.uk/api/stops-street?poly=' + location + '&date=' + date\n",
    "\n",
    "        response = requests.get(url)\n",
    "        if response.status_code == 200:\n",
    "            stop_searches = response.json()\n",
    "        else:\n",
    "            stop_searches = 'Status code: ' + str(response.status_code)\n",
    "\n",
    "    else:\n",
    "        stop_searches = \"The location must be entered as a dictionary in the form: \\n{'lat': lat, 'lng': lon}\\n\" + \\\n",
    "        \"or the loctype must be poly\"\n",
    "\n",
    "    availability_url = 'https://data.police.uk/api/crimes-street-dates'\n",
    "    availability_response = requests.get(availability_url)\n",
    "    if availability_response.status_code == 200:\n",
    "        last_updated = availability_response.json()[0]['date']\n",
    "    else:\n",
    "        last_updated = float('NaN')\n",
    "\n",
    "    return stop_searches, last_updated"
   ]
  },
  {
   "cell_type": "code",
   "execution_count": null,
   "id": "48a1804f-bdaa-493a-a7ef-7a576ee0aeff",
   "metadata": {},
   "outputs": [
    {
     "name": "stdout",
     "output_type": "stream",
     "text": [
      "Last updated: 2023-06\n"
     ]
    },
    {
     "data": {
      "text/plain": [
       "{'category': 'anti-social-behaviour',\n",
       " 'location_type': 'Force',\n",
       " 'location': {'latitude': '51.521347',\n",
       "  'street': {'id': 1691892, 'name': 'On or near Commodore Street'},\n",
       "  'longitude': '-0.038142'},\n",
       " 'context': '',\n",
       " 'outcome_status': None,\n",
       " 'persistent_id': '',\n",
       " 'id': 108936078,\n",
       " 'location_subtype': '',\n",
       " 'month': '2023-03'}"
      ]
     },
     "execution_count": null,
     "metadata": {},
     "output_type": "execute_result"
    }
   ],
   "source": [
    "# Search for stop and searches in Bethnal Green and Bow during March 2023 \n",
    "# Show info for the first crime in the list \n",
    "ss, last_updated = get_stop_searches(constituency_coords['Bethnal Green and Bow'], '2023-03', 'poly')\n",
    "print('Last updated: ' + last_updated)\n",
    "slc[0]"
   ]
  },
  {
   "cell_type": "code",
   "execution_count": null,
   "id": "0ca54ad8-b66f-49fb-8fef-625c981bd1f8",
   "metadata": {},
   "outputs": [],
   "source": [
    "#| export\n",
    "def get_searches_no_loc(force, date):\n",
    "    \"\"\" \n",
    "    Function to get stop and searches that don't have a location and therefore we have \n",
    "    to search by police force\n",
    "    \"\"\"\n",
    "    url = 'https://data.police.uk/api/stops-no-location?force=' \\\n",
    "    + force + '&date=' + date\n",
    "\n",
    "    response = requests.get(url)\n",
    "\n",
    "    if response.status_code == 200:\n",
    "        no_loc_searches = response.json()\n",
    "    else:\n",
    "        no_loc_searches = 'Status code: ' + str(response.status_code)\n",
    "\n",
    "    return no_loc_searches"
   ]
  },
  {
   "cell_type": "code",
   "execution_count": null,
   "id": "a78657ab-a884-47ff-a35e-65a8660053b1",
   "metadata": {},
   "outputs": [
    {
     "data": {
      "text/plain": [
       "{'age_range': None,\n",
       " 'outcome': 'A no further action disposal',\n",
       " 'involved_person': False,\n",
       " 'self_defined_ethnicity': None,\n",
       " 'gender': None,\n",
       " 'legislation': 'Misuse of Drugs Act 1971 (section 23)',\n",
       " 'outcome_linked_to_object_of_search': None,\n",
       " 'datetime': '2023-01-01T13:22:00+00:00',\n",
       " 'removal_of_more_than_outer_clothing': False,\n",
       " 'outcome_object': {'id': 'bu-no-further-action',\n",
       "  'name': 'A no further action disposal'},\n",
       " 'location': None,\n",
       " 'operation': False,\n",
       " 'officer_defined_ethnicity': None,\n",
       " 'type': 'Vehicle search',\n",
       " 'operation_name': None,\n",
       " 'object_of_search': 'Controlled drugs'}"
      ]
     },
     "execution_count": null,
     "metadata": {},
     "output_type": "execute_result"
    }
   ],
   "source": [
    "get_searches_no_loc('bedfordshire', '2023-01')[0]"
   ]
  },
  {
   "cell_type": "code",
   "execution_count": null,
   "id": "d8be63e1-71ac-4665-9d79-d7bebca012a9",
   "metadata": {},
   "outputs": [],
   "source": [
    "#| export\n",
    "def get_unique_col_vals(data):\n",
    "    \"\"\"\n",
    "    Takes a json input converts to a dataframe and returns the column titles and unique values.\n",
    "    \"\"\"\n",
    "    data = pd.json_normalize(data)\n",
    "    u_col_vals = {}\n",
    "    cols = list(data.columns)\n",
    "    \n",
    "    for val in cols:\n",
    "        if type(data[val][0]) == str:\n",
    "            # If there are a lot of unique values they're likely a form of id or date so we don't \n",
    "            # want them. Here we make sure there is a unique value at least every other case.\n",
    "            if len(data[val].unique()) >= len(data)*0.5:\n",
    "                continue  \n",
    "            if not data[val][0].replace('.','', 1).replace('-','',1).isnumeric():\n",
    "                u_col_vals[val] = list(data[val].unique())\n",
    "    \n",
    "    return u_col_vals"
   ]
  },
  {
   "cell_type": "code",
   "execution_count": null,
   "id": "29264607-747b-4971-baca-fbdfded6395c",
   "metadata": {},
   "outputs": [
    {
     "data": {
      "text/plain": [
       "{'outcome': ['A no further action disposal', 'Arrest'],\n",
       " 'gender': ['Male'],\n",
       " 'legislation': ['Misuse of Drugs Act 1971 (section 23)',\n",
       "  'Police and Criminal Evidence Act 1984 (section 1)'],\n",
       " 'officer_defined_ethnicity': ['White', 'Black', 'Asian'],\n",
       " 'type': ['Person search', 'Person and Vehicle search'],\n",
       " 'object_of_search': ['Controlled drugs', 'Stolen goods'],\n",
       " 'outcome_object.id': ['bu-no-further-action', 'bu-arrest'],\n",
       " 'outcome_object.name': ['A no further action disposal', 'Arrest']}"
      ]
     },
     "execution_count": null,
     "metadata": {},
     "output_type": "execute_result"
    }
   ],
   "source": [
    "# Looking for the categories and unique values from the first 10 stop and searches\n",
    "get_unique_col_vals(ss[:10])"
   ]
  },
  {
   "cell_type": "code",
   "execution_count": null,
   "id": "157380d1-6b15-438d-b17b-fef254b55dfe",
   "metadata": {},
   "outputs": [],
   "source": [
    "#| hide\n",
    "import nbdev; nbdev.nbdev_export()"
   ]
  }
 ],
 "metadata": {
  "kernelspec": {
   "display_name": "python3",
   "language": "python",
   "name": "python3"
  }
 },
 "nbformat": 4,
 "nbformat_minor": 5
}
