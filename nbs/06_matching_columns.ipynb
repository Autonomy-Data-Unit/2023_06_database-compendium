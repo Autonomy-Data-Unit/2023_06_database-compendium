{
 "cells": [
  {
   "cell_type": "markdown",
   "id": "3f45f1fb-3a84-46cb-a50f-f65e85b92522",
   "metadata": {},
   "source": [
    "# Matching Datasets Using Their Unique Columns / Parameters"
   ]
  },
  {
   "cell_type": "code",
   "execution_count": null,
   "id": "905bcbe4-82a8-496e-9e94-6f1420a042b8",
   "metadata": {},
   "outputs": [],
   "source": [
    "#| default_exp core"
   ]
  },
  {
   "cell_type": "code",
   "execution_count": null,
   "id": "d1384cdd-78ad-44e3-9f5b-ca0e4dd440b7",
   "metadata": {},
   "outputs": [],
   "source": [
    "#| hide\n",
    "from nbdev.showdoc import *"
   ]
  },
  {
   "cell_type": "code",
   "execution_count": null,
   "id": "09e9c37d-6db5-4662-b1a0-74969ba552d1",
   "metadata": {},
   "outputs": [],
   "source": [
    "#| hide\n",
    "import pandas as pd\n",
    "import plotly.express as px\n",
    "from sklearn.decomposition import PCA\n",
    "import re\n",
    "import ast"
   ]
  },
  {
   "cell_type": "code",
   "execution_count": null,
   "id": "82a0224a-100c-4013-8baa-a28f5ca454d5",
   "metadata": {},
   "outputs": [],
   "source": [
    "# Import the metadata\n",
    "metadata_df = pd.read_csv('~/database_compendium/data/metadata_w_nomis_description.csv')"
   ]
  },
  {
   "cell_type": "code",
   "execution_count": null,
   "id": "3d9fee3b-f84c-4c7c-b23a-05b360fc8b1f",
   "metadata": {},
   "outputs": [],
   "source": [
    "\"\"\"\n",
    "Loop through the metadata dataframe and extract the columns and the headings\n",
    "(keys) of the unique parameters. This ensures datasets with no data in the\n",
    "'Columns' column still have the unique parameters column to go off.\n",
    "\"\"\"\n",
    "c = 0\n",
    "faults = 0\n",
    "cols_list = []\n",
    "for row in metadata_df.loc[:, ['Columns', 'Unique_parameters']].values:\n",
    "    temp_col_list = []\n",
    "    # print(c)\n",
    "    # c+=1\n",
    "\n",
    "    # Column titles\n",
    "    if type(row[0]) == str:\n",
    "        temp_col_list += ast.literal_eval(row[0])\n",
    "    else:\n",
    "        temp_col_list.append(row[0])\n",
    "\n",
    "    # Unique parameters\n",
    "    if type(row[1]) == float:\n",
    "        cols_list.append(temp_col_list)\n",
    "        # print(str(row[1]))\n",
    "        faults += 1\n",
    "    else:\n",
    "        try:\n",
    "            temp_col_list += (list(ast.literal_eval(row[1]).keys()))\n",
    "            cols_list.append(temp_col_list)\n",
    "        except:\n",
    "            cols_list.append(temp_col_list)\n",
    "            faults += 1\n",
    "            continue\n",
    "\n",
    "# Removing extra text within brackets, converting to lowercase and removing duplicates\n",
    "for i in range(len(cols_list)):\n",
    "    for j in range(len(cols_list[i])):\n",
    "        cols_list[i][j] = re.sub(r\"\\([^()]*\\)\", \"\", str(cols_list[i][j]))\n",
    "        cols_list[i][j] = cols_list[i][j].lower()\n",
    "    cols_list[i] = list(set(cols_list[i]))"
   ]
  },
  {
   "cell_type": "code",
   "execution_count": null,
   "id": "eaa0d50b-5f37-441d-be59-b1bec5c628d5",
   "metadata": {},
   "outputs": [
    {
     "data": {
      "text/plain": [
       "['v4_2',\n",
       " 'geography',\n",
       " 'ucl',\n",
       " 'yyyy-qq',\n",
       " 'wellbeing-estimate',\n",
       " 'lcl',\n",
       " 'measureofwellbeing',\n",
       " 'seasonal-adjustment',\n",
       " 'measure-of-wellbeing',\n",
       " 'seasonaladjustment',\n",
       " 'time',\n",
       " 'estimate',\n",
       " 'uk-only']"
      ]
     },
     "execution_count": null,
     "metadata": {},
     "output_type": "execute_result"
    }
   ],
   "source": [
    "cols_list[0]"
   ]
  },
  {
   "cell_type": "markdown",
   "id": "c4efbffd-d88e-4f27-827c-2f86ebb106b3",
   "metadata": {},
   "source": [
    "## Metching Datasets by Identical Columns / Parameters"
   ]
  },
  {
   "cell_type": "code",
   "execution_count": null,
   "id": "712fde53-e0b0-4844-b5ff-769e4d118685",
   "metadata": {},
   "outputs": [],
   "source": [
    "#| export\n",
    "def find_identical_cols(cols_list, compare_idx):\n",
    "    \"\"\"\n",
    "    Function to find the column titles of datasets that are identical to those\n",
    "    in the dataset to be compared with.\n",
    "\n",
    "\n",
    "    The index of the list must be used\n",
    "    - To find the index of a named dataset we can simply search for the name in \n",
    "    the metadata_df and find its corresponding index\n",
    "    \"\"\"\n",
    "\n",
    "    dataset_to_compare = compare_idx\n",
    "\n",
    "    comp_cols = cols_list[dataset_to_compare]\n",
    "    comp_cols = [s.strip() for s in comp_cols]\n",
    "    updated_cols_list = cols_list[:]\n",
    "    updated_cols_list.pop(dataset_to_compare)\n",
    "\n",
    "    identical_cols = []\n",
    "    pattern = re.compile(r\"v\\d+_\\d+\") # we want to remove strings in the form vX_Y\n",
    "    for cl in updated_cols_list:\n",
    "\n",
    "        # Clean list\n",
    "        temp_cl = [s.strip() for s in cl]\n",
    "        temp_cl = [s for s in temp_cl if not pattern.match(s)]\n",
    "\n",
    "        # Add a list of strings that match from both comp_cols and temp_cl\n",
    "        identical_cols.append(list(set(comp_cols) & set(temp_cl)))\n",
    "\n",
    "    return identical_cols"
   ]
  },
  {
   "cell_type": "code",
   "execution_count": null,
   "id": "86bfab3a-9f7b-43ab-b423-b50c29b82599",
   "metadata": {},
   "outputs": [
    {
     "data": {
      "text/html": [
       "<div>\n",
       "<style scoped>\n",
       "    .dataframe tbody tr th:only-of-type {\n",
       "        vertical-align: middle;\n",
       "    }\n",
       "\n",
       "    .dataframe tbody tr th {\n",
       "        vertical-align: top;\n",
       "    }\n",
       "\n",
       "    .dataframe thead th {\n",
       "        text-align: right;\n",
       "    }\n",
       "</style>\n",
       "<table border=\"1\" class=\"dataframe\">\n",
       "  <thead>\n",
       "    <tr style=\"text-align: right;\">\n",
       "      <th></th>\n",
       "      <th>Title</th>\n",
       "      <th>Number_of_identical_columns</th>\n",
       "      <th>Identical_columns</th>\n",
       "    </tr>\n",
       "  </thead>\n",
       "  <tbody>\n",
       "    <tr>\n",
       "      <th>12</th>\n",
       "      <td>Sexual orientation by English regions and UK c...</td>\n",
       "      <td>9</td>\n",
       "      <td>[cv, sexualorientation, geography, sexual-orie...</td>\n",
       "    </tr>\n",
       "    <tr>\n",
       "      <th>48</th>\n",
       "      <td>Local authority ageing statistics, based on an...</td>\n",
       "      <td>8</td>\n",
       "      <td>[geography, calendar-years, unit-of-measure, t...</td>\n",
       "    </tr>\n",
       "    <tr>\n",
       "      <th>47</th>\n",
       "      <td>Local authority ageing statistics, population ...</td>\n",
       "      <td>8</td>\n",
       "      <td>[geography, calendar-years, unit-of-measure, t...</td>\n",
       "    </tr>\n",
       "    <tr>\n",
       "      <th>27</th>\n",
       "      <td>UK Labour Market</td>\n",
       "      <td>8</td>\n",
       "      <td>[geography, unit-of-measure, time, unitofmeasu...</td>\n",
       "    </tr>\n",
       "    <tr>\n",
       "      <th>44</th>\n",
       "      <td>Earnings and hours worked, age group by occupa...</td>\n",
       "      <td>8</td>\n",
       "      <td>[cv, geography, calendar-years, time, sex, age...</td>\n",
       "    </tr>\n",
       "    <tr>\n",
       "      <th>19</th>\n",
       "      <td>Local authority ageing statistics, household p...</td>\n",
       "      <td>6</td>\n",
       "      <td>[geography, calendar-years, time, sex, age-gro...</td>\n",
       "    </tr>\n",
       "    <tr>\n",
       "      <th>5</th>\n",
       "      <td>Deaths registered weekly in England and Wales ...</td>\n",
       "      <td>6</td>\n",
       "      <td>[geography, calendar-years, time, sex, age-gro...</td>\n",
       "    </tr>\n",
       "    <tr>\n",
       "      <th>23</th>\n",
       "      <td>Local authority ageing statistics, net interna...</td>\n",
       "      <td>6</td>\n",
       "      <td>[geography, calendar-years, time, sex, age-gro...</td>\n",
       "    </tr>\n",
       "    <tr>\n",
       "      <th>42</th>\n",
       "      <td>Earnings and hours worked, care workers: ASHE ...</td>\n",
       "      <td>6</td>\n",
       "      <td>[cv, geography, calendar-years, time, sex, uk-...</td>\n",
       "    </tr>\n",
       "    <tr>\n",
       "      <th>40</th>\n",
       "      <td>Earnings and hours worked, region by occupatio...</td>\n",
       "      <td>5</td>\n",
       "      <td>[cv, geography, calendar-years, time, sex]</td>\n",
       "    </tr>\n",
       "  </tbody>\n",
       "</table>\n",
       "</div>"
      ],
      "text/plain": [
       "                                                Title  \\\n",
       "12  Sexual orientation by English regions and UK c...   \n",
       "48  Local authority ageing statistics, based on an...   \n",
       "47  Local authority ageing statistics, population ...   \n",
       "27                                   UK Labour Market   \n",
       "44  Earnings and hours worked, age group by occupa...   \n",
       "19  Local authority ageing statistics, household p...   \n",
       "5   Deaths registered weekly in England and Wales ...   \n",
       "23  Local authority ageing statistics, net interna...   \n",
       "42  Earnings and hours worked, care workers: ASHE ...   \n",
       "40  Earnings and hours worked, region by occupatio...   \n",
       "\n",
       "    Number_of_identical_columns  \\\n",
       "12                            9   \n",
       "48                            8   \n",
       "47                            8   \n",
       "27                            8   \n",
       "44                            8   \n",
       "19                            6   \n",
       "5                             6   \n",
       "23                            6   \n",
       "42                            6   \n",
       "40                            5   \n",
       "\n",
       "                                    Identical_columns  \n",
       "12  [cv, sexualorientation, geography, sexual-orie...  \n",
       "48  [geography, calendar-years, unit-of-measure, t...  \n",
       "47  [geography, calendar-years, unit-of-measure, t...  \n",
       "27  [geography, unit-of-measure, time, unitofmeasu...  \n",
       "44  [cv, geography, calendar-years, time, sex, age...  \n",
       "19  [geography, calendar-years, time, sex, age-gro...  \n",
       "5   [geography, calendar-years, time, sex, age-gro...  \n",
       "23  [geography, calendar-years, time, sex, age-gro...  \n",
       "42  [cv, geography, calendar-years, time, sex, uk-...  \n",
       "40         [cv, geography, calendar-years, time, sex]  "
      ]
     },
     "execution_count": null,
     "metadata": {},
     "output_type": "execute_result"
    }
   ],
   "source": [
    "# Finding the 10 datasets with the most identical columns to the dataset being compared\n",
    "dataset_to_compare = 13\n",
    "titles = metadata_df.loc[:, 'Title']\n",
    "titles = list(titles.drop(dataset_to_compare))\n",
    "\n",
    "identical_cols = find_identical_cols(cols_list, dataset_to_compare)\n",
    "num_similarities = [len(l) for l in identical_cols]\n",
    "\n",
    "idt_cols_df = pd.DataFrame({'Title': titles, 'Number_of_identical_columns': num_similarities, 'Identical_columns': identical_cols})\n",
    "idt_cols_df.sort_values(by='Number_of_identical_columns', ascending=False).head(10)"
   ]
  },
  {
   "cell_type": "markdown",
   "id": "eea140b1-c7a1-4d32-bd34-ade9f807b16f",
   "metadata": {},
   "source": [
    "## Using Fuzzy String Matching"
   ]
  },
  {
   "cell_type": "code",
   "execution_count": null,
   "id": "a3fdaa31-8972-4325-aa3b-ec7b4eadd336",
   "metadata": {},
   "outputs": [],
   "source": [
    "#| hide\n",
    "import textdistance"
   ]
  },
  {
   "cell_type": "code",
   "execution_count": null,
   "id": "a35c24b3-3259-4150-9ca2-40c2e92e2143",
   "metadata": {},
   "outputs": [],
   "source": [
    "# def find_similar_cols(cols_list, compare_idx):\n"
   ]
  },
  {
   "cell_type": "code",
   "execution_count": null,
   "id": "532e99f7-2823-42d2-a10f-740ef1227902",
   "metadata": {},
   "outputs": [],
   "source": [
    "#| hide\n",
    "import nbdev; nbdev.nbdev_export()"
   ]
  }
 ],
 "metadata": {
  "kernelspec": {
   "display_name": "python3",
   "language": "python",
   "name": "python3"
  }
 },
 "nbformat": 4,
 "nbformat_minor": 5
}
