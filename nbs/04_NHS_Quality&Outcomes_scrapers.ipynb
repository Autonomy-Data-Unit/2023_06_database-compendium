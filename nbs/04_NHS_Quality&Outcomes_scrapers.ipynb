{
 "cells": [
  {
   "cell_type": "markdown",
   "id": "0e494598-8791-48e6-8ad4-e7f18710a0b6",
   "metadata": {},
   "source": [
    "# Scrape Data from the NHS Quality and Outcomes Framework"
   ]
  },
  {
   "cell_type": "markdown",
   "id": "9181e267-8b18-4af7-9cf2-4bbd56d8ef66",
   "metadata": {},
   "source": [
    "The purpose of these functions is to\n",
    "- Find and read the most recent NHS Quality and Outcomes file\n",
    "- Read each of the sheets in the file into a dataframe\n",
    "- Collect the unique column values from the dataframes"
   ]
  },
  {
   "cell_type": "code",
   "execution_count": null,
   "id": "b53e35ca-1879-490a-ab56-6e3aafb294c5",
   "metadata": {},
   "outputs": [],
   "source": [
    "#| default_exp core"
   ]
  },
  {
   "cell_type": "code",
   "execution_count": null,
   "id": "5da368bd-402b-42e8-bdd7-4d85f513f43d",
   "metadata": {},
   "outputs": [],
   "source": [
    "#| hide\n",
    "from nbdev.showdoc import *"
   ]
  },
  {
   "cell_type": "code",
   "execution_count": null,
   "id": "053c1522-ce97-4af8-9376-f7f7c12481cf",
   "metadata": {},
   "outputs": [],
   "source": [
    "#| hide\n",
    "import requests\n",
    "from bs4 import BeautifulSoup\n",
    "import pandas as pd"
   ]
  },
  {
   "cell_type": "code",
   "execution_count": null,
   "id": "115f579d-6b67-4773-927e-ee10522e5e74",
   "metadata": {},
   "outputs": [],
   "source": [
    "#| export\n",
    "def get_NHS_qualityOutcomes():\n",
    "    \"\"\"\n",
    "    Find the link of the most recent dataset and download data at national\n",
    "    level.\n",
    "    \"\"\"\n",
    "    base_url = 'https://digital.nhs.uk'\n",
    "    url = base_url + '/data-and-information/publications/statistical/quality-and-outcomes-framework-achievement-prevalence-and-exceptions-data'\n",
    "    \n",
    "    # Find link to latest dataset\n",
    "    response = requests.get(url)\n",
    "    soup = BeautifulSoup(response.text, 'html.parser')\n",
    "    latest_dataset_url_ending = soup.find_all('div', {'id': 'latest-statistics'})[0].findChildren('a')[0]['href']\n",
    "    latest_dataset_url = base_url + latest_dataset_url_ending\n",
    "    \n",
    "    # find latest dataset file\n",
    "    response = requests.get(latest_dataset_url)\n",
    "    soup = BeautifulSoup(response.text, 'html.parser')\n",
    "    file_download_link = soup.find('div', {'id': 'resources'}).find_all('a')[0]['href']\n",
    "    \n",
    "    r = requests.get(file_download_link)\n",
    "    file = pd.ExcelFile(r.content)\n",
    "    \n",
    "    dfs = {}\n",
    "    for sheet in file.sheet_names[1:]:  # Ignore the first sheet as it just contains a list of titles for the other sheets\n",
    "        title = file.parse(sheet).iloc[6, 0] # Table title is on the 6th row for every table\n",
    "        \n",
    "        \"\"\" \n",
    "        Each table has the same number of rows, which makes this much easier, however, this only works for the national \n",
    "        level excel file (rows correspond to regions)\n",
    "        \"\"\"\n",
    "        temp_df = file.parse(sheet)[10:19].reset_index(drop=True)\n",
    "        temp_df.columns = temp_df.iloc[0]\n",
    "        dfs[title] = temp_df.iloc[1:].reset_index(drop=True) # save as df in dictionary\n",
    "\n",
    "    return dfs"
   ]
  },
  {
   "cell_type": "code",
   "execution_count": null,
   "id": "074c36cb-3758-4d15-bfcc-94823a198f1a",
   "metadata": {},
   "outputs": [
    {
     "name": "stdout",
     "output_type": "stream",
     "text": [
      "Title: Prevalence, achievement and personalised care adjustments, cardiovascular group, atrial fibrillation, 2021-22, region and national level\n"
     ]
    }
   ],
   "source": [
    "NHS_quality_outcomes = get_NHS_qualityOutcomes()\n",
    "print('Title: ' + list(NHS_quality_outcomes.keys())[0][9:])"
   ]
  },
  {
   "cell_type": "code",
   "execution_count": null,
   "id": "0915c1f2-3ca8-4dd7-a041-612e1bbad0a2",
   "metadata": {},
   "outputs": [
    {
     "data": {
      "text/html": [
       "<div>\n",
       "<style scoped>\n",
       "    .dataframe tbody tr th:only-of-type {\n",
       "        vertical-align: middle;\n",
       "    }\n",
       "\n",
       "    .dataframe tbody tr th {\n",
       "        vertical-align: top;\n",
       "    }\n",
       "\n",
       "    .dataframe thead th {\n",
       "        text-align: right;\n",
       "    }\n",
       "</style>\n",
       "<table border=\"1\" class=\"dataframe\">\n",
       "  <thead>\n",
       "    <tr style=\"text-align: right;\">\n",
       "      <th></th>\n",
       "      <th>Region ODS code</th>\n",
       "      <th>Region ONS code</th>\n",
       "      <th>Region name</th>\n",
       "      <th>Number of practices</th>\n",
       "      <th>List size</th>\n",
       "      <th>Register</th>\n",
       "      <th>Prevalence (%)</th>\n",
       "      <th>Number of practices</th>\n",
       "      <th>List size</th>\n",
       "      <th>Register</th>\n",
       "      <th>...</th>\n",
       "      <th>Denominator plus PCAs</th>\n",
       "      <th>Patients receiving Intervention (%)</th>\n",
       "      <th>Achievement Score (max 25)</th>\n",
       "      <th>Numerator</th>\n",
       "      <th>Denominator</th>\n",
       "      <th>Underlying Achievement net of PCAs (%)</th>\n",
       "      <th>PCAs</th>\n",
       "      <th>PCA Rate (%)</th>\n",
       "      <th>Denominator plus PCAs</th>\n",
       "      <th>Patients receiving Intervention (%)</th>\n",
       "    </tr>\n",
       "  </thead>\n",
       "  <tbody>\n",
       "    <tr>\n",
       "      <th>0</th>\n",
       "      <td>ENG</td>\n",
       "      <td>E92000001</td>\n",
       "      <td>England</td>\n",
       "      <td>6460</td>\n",
       "      <td>60037519</td>\n",
       "      <td>1230460</td>\n",
       "      <td>2.049485</td>\n",
       "      <td>6470</td>\n",
       "      <td>61604213</td>\n",
       "      <td>1288599</td>\n",
       "      <td>...</td>\n",
       "      <td>557688</td>\n",
       "      <td>86.154086</td>\n",
       "      <td>161245.58</td>\n",
       "      <td>948937</td>\n",
       "      <td>1027297</td>\n",
       "      <td>92.372216</td>\n",
       "      <td>38850</td>\n",
       "      <td>3.643963</td>\n",
       "      <td>1066147</td>\n",
       "      <td>89.006206</td>\n",
       "    </tr>\n",
       "    <tr>\n",
       "      <th>1</th>\n",
       "      <td>Y56</td>\n",
       "      <td>E40000003</td>\n",
       "      <td>London</td>\n",
       "      <td>1174</td>\n",
       "      <td>10239440</td>\n",
       "      <td>113999</td>\n",
       "      <td>1.113332</td>\n",
       "      <td>1178</td>\n",
       "      <td>10644873</td>\n",
       "      <td>119035</td>\n",
       "      <td>...</td>\n",
       "      <td>51689</td>\n",
       "      <td>86.927586</td>\n",
       "      <td>29209.21</td>\n",
       "      <td>84343</td>\n",
       "      <td>93253</td>\n",
       "      <td>90.445348</td>\n",
       "      <td>3680</td>\n",
       "      <td>3.796437</td>\n",
       "      <td>96933</td>\n",
       "      <td>87.011647</td>\n",
       "    </tr>\n",
       "    <tr>\n",
       "      <th>2</th>\n",
       "      <td>Y58</td>\n",
       "      <td>E40000006</td>\n",
       "      <td>South West</td>\n",
       "      <td>552</td>\n",
       "      <td>5823756</td>\n",
       "      <td>154294</td>\n",
       "      <td>2.64939</td>\n",
       "      <td>552</td>\n",
       "      <td>5999796</td>\n",
       "      <td>163087</td>\n",
       "      <td>...</td>\n",
       "      <td>66873</td>\n",
       "      <td>83.695961</td>\n",
       "      <td>13800</td>\n",
       "      <td>119527</td>\n",
       "      <td>129371</td>\n",
       "      <td>92.390876</td>\n",
       "      <td>5437</td>\n",
       "      <td>4.033143</td>\n",
       "      <td>134808</td>\n",
       "      <td>88.664619</td>\n",
       "    </tr>\n",
       "  </tbody>\n",
       "</table>\n",
       "<p>3 rows × 42 columns</p>\n",
       "</div>"
      ],
      "text/plain": [
       "0 Region ODS code Region ONS code Region name Number of practices List size  \\\n",
       "0             ENG       E92000001     England                6460  60037519   \n",
       "1             Y56       E40000003      London                1174  10239440   \n",
       "2             Y58       E40000006  South West                 552   5823756   \n",
       "\n",
       "0 Register Prevalence (%) Number of practices List size Register  ...  \\\n",
       "0  1230460       2.049485                6470  61604213  1288599  ...   \n",
       "1   113999       1.113332                1178  10644873   119035  ...   \n",
       "2   154294        2.64939                 552   5999796   163087  ...   \n",
       "\n",
       "0 Denominator plus PCAs Patients receiving Intervention (%)  \\\n",
       "0                557688                           86.154086   \n",
       "1                 51689                           86.927586   \n",
       "2                 66873                           83.695961   \n",
       "\n",
       "0 Achievement Score (max 25) Numerator Denominator  \\\n",
       "0                  161245.58    948937     1027297   \n",
       "1                   29209.21     84343       93253   \n",
       "2                      13800    119527      129371   \n",
       "\n",
       "0 Underlying Achievement net of PCAs (%)   PCAs PCA Rate (%)  \\\n",
       "0                              92.372216  38850     3.643963   \n",
       "1                              90.445348   3680     3.796437   \n",
       "2                              92.390876   5437     4.033143   \n",
       "\n",
       "0 Denominator plus PCAs Patients receiving Intervention (%)  \n",
       "0               1066147                           89.006206  \n",
       "1                 96933                           87.011647  \n",
       "2                134808                           88.664619  \n",
       "\n",
       "[3 rows x 42 columns]"
      ]
     },
     "execution_count": null,
     "metadata": {},
     "output_type": "execute_result"
    }
   ],
   "source": [
    "NHS_quality_outcomes[list(NHS_quality_outcomes.keys())[0]].head(3)"
   ]
  },
  {
   "cell_type": "code",
   "execution_count": null,
   "id": "7590753e-9bb5-4f55-9caa-3aca8a5d845f",
   "metadata": {},
   "outputs": [],
   "source": [
    "#| export\n",
    "def get_qualityOutcomes_uniqueColumnValues(data):\n",
    "    \"Returns the unique, non-numeric column values given a dataframe\"\n",
    "    unq_cols = {}\n",
    "    for i in range(len(data)):\n",
    "        col_name = data.iloc[:, i].name\n",
    "        if type((data.iloc[:, i])[0]) == str:\n",
    "            unq_cols[col_name] = data.iloc[:, i].unique()\n",
    "    return unq_cols"
   ]
  },
  {
   "cell_type": "code",
   "execution_count": null,
   "id": "4529eed4-7e60-4e95-868c-4f902880a076",
   "metadata": {},
   "outputs": [
    {
     "data": {
      "text/plain": [
       "{'Region ODS code': array(['ENG', 'Y56', 'Y58', 'Y59', 'Y60', 'Y61', 'Y62', 'Y63'],\n",
       "       dtype=object),\n",
       " 'Region ONS code': array(['E92000001', 'E40000003', 'E40000006', 'E40000005', 'E40000011',\n",
       "        'E40000007', 'E40000010', 'E40000012'], dtype=object),\n",
       " 'Region name': array(['England', 'London', 'South West', 'South East', 'Midlands',\n",
       "        'East of England', 'North West', 'North East and Yorkshire'],\n",
       "       dtype=object)}"
      ]
     },
     "execution_count": null,
     "metadata": {},
     "output_type": "execute_result"
    }
   ],
   "source": [
    "# Get the unique column values from the first sheet\n",
    "sheet = NHS_quality_outcomes[list(NHS_quality_outcomes.keys())[0]]\n",
    "get_qualityOutcomes_uniqueColumnValues(sheet)"
   ]
  },
  {
   "cell_type": "code",
   "execution_count": null,
   "id": "1e029d50-b59f-4966-8037-bcd629d98fad",
   "metadata": {},
   "outputs": [],
   "source": [
    "#| hide\n",
    "import nbdev; nbdev.nbdev_export()"
   ]
  }
 ],
 "metadata": {
  "kernelspec": {
   "display_name": "python3",
   "language": "python",
   "name": "python3"
  }
 },
 "nbformat": 4,
 "nbformat_minor": 5
}
