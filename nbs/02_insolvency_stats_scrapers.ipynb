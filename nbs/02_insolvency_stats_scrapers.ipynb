{
 "cells": [
  {
   "cell_type": "markdown",
   "id": "e9a48f87-e021-46b6-b3bb-82df322bc58a",
   "metadata": {},
   "source": [
    "# Scrape The Most up-to-date Monthly Insolvency Statistics"
   ]
  },
  {
   "cell_type": "markdown",
   "id": "922ec51e-3caa-42d0-8598-3bb13921408c",
   "metadata": {},
   "source": [
    "The purpose of these functions is to\n",
    "- Find and read the most recent monthly insolvency statistics file\n",
    "- Read each of the sheets in the file into a dataframe\n",
    "- Get a long and short description of the data\n",
    "- Collect the unique column values from the dataframes\n",
    "- Find the date of the most recent data available"
   ]
  },
  {
   "cell_type": "code",
   "execution_count": null,
   "id": "fed1f205-6791-4b64-8861-33385d6e0137",
   "metadata": {},
   "outputs": [],
   "source": [
    "#| default_exp core"
   ]
  },
  {
   "cell_type": "code",
   "execution_count": null,
   "id": "81cbcf55-5f9f-4c9b-8bba-9611d4f6700f",
   "metadata": {},
   "outputs": [],
   "source": [
    "#| hide\n",
    "from nbdev.showdoc import *"
   ]
  },
  {
   "cell_type": "code",
   "execution_count": null,
   "id": "2c584a16-064d-4ab0-ad0b-ad9badda39a1",
   "metadata": {},
   "outputs": [],
   "source": [
    "#| hide\n",
    "from bs4 import BeautifulSoup\n",
    "import pandas as pd\n",
    "import numpy as np\n",
    "import requests"
   ]
  },
  {
   "cell_type": "code",
   "execution_count": null,
   "id": "cb64289a-4c6b-426a-87fd-8cfa9c0894a8",
   "metadata": {},
   "outputs": [],
   "source": [
    "#| export\n",
    "def get_insolvency_stats():\n",
    "    \"\"\"\n",
    "    Find the most up to date monthly insolvency statistics and fetch the \n",
    "    url so it can be used to collect the .xlsx file.\n",
    "\n",
    "    Open the webpage and read the HTML.\n",
    "    Find the .xlsx file by searching through the <a> elements.\n",
    "    (we know it's in an <a> element as this is how links are defined in HTML)\n",
    "\n",
    "    Returns a dictionary where the keys are the sheet names and the values are\n",
    "    dataframes containing the sheet data.\n",
    "    \"\"\"\n",
    "    base_url = \"https://www.gov.uk\"\n",
    "    url = base_url + \"/government/collections/monthly-insolvency-statistics\"\n",
    "\n",
    "    response = requests.get(url)\n",
    "\n",
    "    if response.status_code == 200:\n",
    "        soup = BeautifulSoup(response.text, 'html.parser')\n",
    "\n",
    "        uls = soup.find(\"ul\", {\"class\": \"gem-c-document-list\"})\n",
    "\n",
    "        insolvency_stats_url = uls.findChildren(\"a\")[0]['href'] # link for first item in list (most recent stats)\n",
    "        insolvency_stats_url = base_url + insolvency_stats_url\n",
    "\n",
    "        response = requests.get(insolvency_stats_url)\n",
    "\n",
    "        # Opening the relevant file\n",
    "        if response.status_code == 200:\n",
    "            soup = BeautifulSoup(response.text, 'html.parser')\n",
    "\n",
    "            for a in soup.find_all(\"a\", {\"class\": \"govuk-link\"}):\n",
    "                if 'xlsx' in a['href']:\n",
    "                    r = requests.get(a['href'])\n",
    "                    file = pd.ExcelFile(r.content)\n",
    "\n",
    "        # Reading the methods and notes from sheets in the document to create a long description\n",
    "        for sheet in file.sheet_names:\n",
    "            if 'Method' in sheet:\n",
    "                MaQ = file.parse(sheet)[1:]\n",
    "            if 'Note' in sheet:\n",
    "                notes = file.parse(sheet).iloc[1:,:2]\n",
    "\n",
    "        MaQ = '\\n'.join(MaQ.iloc[:, 0])\n",
    "        notes.iloc[:, 0] = '[' + notes.iloc[:, 0] + ']'\n",
    "        notes = notes.iloc[: ,0] + ' ' + notes.iloc[:, 1]\n",
    "        notes = '\\n'.join(notes)\n",
    "        long_description = MaQ + ' \\n' + notes\n",
    "\n",
    "        # Extracting the sheets that contain the actual data\n",
    "        dfs = {}\n",
    "\n",
    "        for sheet in file.sheet_names:\n",
    "            if 'Table' in sheet:\n",
    "                title = file.parse(sheet).keys()[0]\n",
    "                dfs[title] = file.parse(sheet) # save as df in dictionary\n",
    "\n",
    "        for table in dfs:\n",
    "            skip_rows = np.argmax(~dfs[table].iloc[:, 2].isnull()) # find the number of redundant rows\n",
    "            dfs[table].columns = dfs[table].iloc[skip_rows, :]  # Replace columns with correct values\n",
    "            dfs[table] = dfs[table][skip_rows+1:]   # ignore the empty rows\n",
    "        \n",
    "    return dfs, long_description"
   ]
  },
  {
   "cell_type": "code",
   "execution_count": null,
   "id": "0b9268e2-6672-4302-927d-a4eb7523d3fd",
   "metadata": {},
   "outputs": [
    {
     "name": "stdout",
     "output_type": "stream",
     "text": [
      "Title: Table 1: Registered Company insolvencies, England and Wales, 1 January 2019 to 31 May 2023, not seasonally adjusted [p][note 1][note 2]\n",
      "Description: \n",
      "The Insolvency Service is currently releasing monthly company and individual insolvency statistics for England & Wales and Northern Ireland, and monthly company statistics for Scotland, to provide more up to date information on insolvency volumes\n"
     ]
    }
   ],
   "source": [
    "insolvency_stats, long_desc = get_insolvency_stats()\n",
    "print('Title: ' + list(insolvency_stats.keys())[0])\n",
    "print('Description: ' + long_desc[29:276])"
   ]
  },
  {
   "cell_type": "code",
   "execution_count": null,
   "id": "f4926378-1348-4669-9531-ee766f2c35e2",
   "metadata": {},
   "outputs": [
    {
     "data": {
      "text/html": [
       "<div>\n",
       "<style scoped>\n",
       "    .dataframe tbody tr th:only-of-type {\n",
       "        vertical-align: middle;\n",
       "    }\n",
       "\n",
       "    .dataframe tbody tr th {\n",
       "        vertical-align: top;\n",
       "    }\n",
       "\n",
       "    .dataframe thead th {\n",
       "        text-align: right;\n",
       "    }\n",
       "</style>\n",
       "<table border=\"1\" class=\"dataframe\">\n",
       "  <thead>\n",
       "    <tr style=\"text-align: right;\">\n",
       "      <th>4</th>\n",
       "      <th>Month</th>\n",
       "      <th>Total company insolvencies</th>\n",
       "      <th>Total company insolvencies revised?</th>\n",
       "      <th>Compulsory liquidations [note 3]</th>\n",
       "      <th>Compulsory liquidations revised?</th>\n",
       "      <th>Creditors' voluntary liquidations [note 4]</th>\n",
       "      <th>Creditors' voluntary liquidations revised?</th>\n",
       "      <th>Administrations</th>\n",
       "      <th>Administrations revised?</th>\n",
       "      <th>Company voluntary arrangements</th>\n",
       "      <th>Company voluntary arrangements revised?</th>\n",
       "      <th>Receivership appointments</th>\n",
       "      <th>Receivership appointments revised?</th>\n",
       "    </tr>\n",
       "  </thead>\n",
       "  <tbody>\n",
       "    <tr>\n",
       "      <th>5</th>\n",
       "      <td>Jan 19</td>\n",
       "      <td>1726</td>\n",
       "      <td>NaN</td>\n",
       "      <td>317</td>\n",
       "      <td>NaN</td>\n",
       "      <td>1171</td>\n",
       "      <td>NaN</td>\n",
       "      <td>196</td>\n",
       "      <td>NaN</td>\n",
       "      <td>42</td>\n",
       "      <td>NaN</td>\n",
       "      <td>0</td>\n",
       "      <td>NaN</td>\n",
       "    </tr>\n",
       "    <tr>\n",
       "      <th>6</th>\n",
       "      <td>Feb 19</td>\n",
       "      <td>1213</td>\n",
       "      <td>NaN</td>\n",
       "      <td>259</td>\n",
       "      <td>NaN</td>\n",
       "      <td>806</td>\n",
       "      <td>NaN</td>\n",
       "      <td>125</td>\n",
       "      <td>NaN</td>\n",
       "      <td>23</td>\n",
       "      <td>NaN</td>\n",
       "      <td>0</td>\n",
       "      <td>NaN</td>\n",
       "    </tr>\n",
       "    <tr>\n",
       "      <th>7</th>\n",
       "      <td>Mar 19</td>\n",
       "      <td>1581</td>\n",
       "      <td>NaN</td>\n",
       "      <td>238</td>\n",
       "      <td>NaN</td>\n",
       "      <td>1139</td>\n",
       "      <td>NaN</td>\n",
       "      <td>175</td>\n",
       "      <td>NaN</td>\n",
       "      <td>29</td>\n",
       "      <td>NaN</td>\n",
       "      <td>0</td>\n",
       "      <td>NaN</td>\n",
       "    </tr>\n",
       "  </tbody>\n",
       "</table>\n",
       "</div>"
      ],
      "text/plain": [
       "4   Month Total company insolvencies Total company insolvencies revised?  \\\n",
       "5  Jan 19                       1726                                 NaN   \n",
       "6  Feb 19                       1213                                 NaN   \n",
       "7  Mar 19                       1581                                 NaN   \n",
       "\n",
       "4 Compulsory liquidations [note 3] Compulsory liquidations revised?  \\\n",
       "5                              317                              NaN   \n",
       "6                              259                              NaN   \n",
       "7                              238                              NaN   \n",
       "\n",
       "4 Creditors' voluntary liquidations [note 4]  \\\n",
       "5                                       1171   \n",
       "6                                        806   \n",
       "7                                       1139   \n",
       "\n",
       "4 Creditors' voluntary liquidations revised? Administrations  \\\n",
       "5                                        NaN             196   \n",
       "6                                        NaN             125   \n",
       "7                                        NaN             175   \n",
       "\n",
       "4 Administrations revised? Company voluntary arrangements  \\\n",
       "5                      NaN                             42   \n",
       "6                      NaN                             23   \n",
       "7                      NaN                             29   \n",
       "\n",
       "4 Company voluntary arrangements revised? Receivership appointments  \\\n",
       "5                                     NaN                         0   \n",
       "6                                     NaN                         0   \n",
       "7                                     NaN                         0   \n",
       "\n",
       "4 Receivership appointments revised?  \n",
       "5                                NaN  \n",
       "6                                NaN  \n",
       "7                                NaN  "
      ]
     },
     "execution_count": null,
     "metadata": {},
     "output_type": "execute_result"
    }
   ],
   "source": [
    "list(insolvency_stats.values())[0].head(3)"
   ]
  },
  {
   "cell_type": "code",
   "execution_count": null,
   "id": "7d747663-d48d-468e-b7f3-097a76d192a0",
   "metadata": {},
   "outputs": [],
   "source": [
    "#| export\n",
    "def get_insolvency_unique_column_vals(data):\n",
    "    \"Given a dataframe, this function finds the unique column values\"\n",
    "    col_data = {}\n",
    "    data = data.reset_index(drop=True)\n",
    "\n",
    "    for col in data.columns:\n",
    "\n",
    "        if type(data.loc[:, col][0]) == str: # Check for string data type\n",
    "            if not data.loc[:, col][0].replace('.','', 1).isdigit(): # if the data is a string ensure that it isn't numeric\n",
    "                col_data[col] = list(data.loc[:, col].unique())\n",
    "\n",
    "    return col_data"
   ]
  },
  {
   "cell_type": "code",
   "execution_count": null,
   "id": "74e192ee-2f9e-4604-8685-c3620f994d46",
   "metadata": {},
   "outputs": [],
   "source": [
    "#| export\n",
    "def get_mis_last_updated():\n",
    "    \"Gets the publish date of the most up to date insolvency data\"\n",
    "    base_url = \"https://www.gov.uk\"\n",
    "    url = base_url + \"/government/collections/monthly-insolvency-statistics\"\n",
    "\n",
    "    response = requests.get(url)\n",
    "\n",
    "    if response.status_code == 200:\n",
    "        soup = BeautifulSoup(response.text, 'html.parser')\n",
    "        last_updated_element = soup.find(text=\"Last updated\")\n",
    "        last_updated = last_updated_element.find_next()\n",
    "        last_updated = last_updated.text.strip().split('\\n')[0]\n",
    "    else:\n",
    "        last_updated = float('NaN')\n",
    "\n",
    "    return last_updated"
   ]
  },
  {
   "cell_type": "code",
   "execution_count": null,
   "id": "440b3acf-4910-408c-a102-220c36a21b37",
   "metadata": {},
   "outputs": [
    {
     "data": {
      "text/plain": [
       "'16 June 2023'"
      ]
     },
     "execution_count": null,
     "metadata": {},
     "output_type": "execute_result"
    }
   ],
   "source": [
    "get_mis_last_updated()"
   ]
  },
  {
   "cell_type": "code",
   "execution_count": null,
   "id": "245bcee0-ff7c-4768-b4c5-6e43b6616560",
   "metadata": {},
   "outputs": [],
   "source": [
    "#| export\n",
    "def get_mis_description():\n",
    "    \"Gets a short description of the insolvency statistics dataset\"\n",
    "    base_url = \"https://www.gov.uk\"\n",
    "    url = base_url + \"/government/collections/monthly-insolvency-statistics\"\n",
    "\n",
    "    response = requests.get(url)\n",
    "\n",
    "    if response.status_code == 200:\n",
    "        soup = BeautifulSoup(response.text, 'html.parser')\n",
    "        # Find the <p> element with a class containing the word \"lead\"\n",
    "        lead_paragraph = soup.select(\"p[class*=lead]\")\n",
    "    else:\n",
    "        lead_paragraph = float('NaN')\n",
    "\n",
    "    lead_paragraph = lead_paragraph[0].text\n",
    "\n",
    "    return lead_paragraph"
   ]
  },
  {
   "cell_type": "code",
   "execution_count": null,
   "id": "1722dae6-ed4c-4969-8790-1ac3baa0e06c",
   "metadata": {},
   "outputs": [
    {
     "data": {
      "text/plain": [
       "'Monthly company and individual insolvency statistics for England & Wales, and Northern Ireland, as well as company insolvency statistics for Scotland. Breathing Space scheme statistics and numbers of company moratoriums and restructuring plans are also included.'"
      ]
     },
     "execution_count": null,
     "metadata": {},
     "output_type": "execute_result"
    }
   ],
   "source": [
    "get_mis_description()"
   ]
  },
  {
   "cell_type": "code",
   "execution_count": null,
   "id": "038e9bbc-7c3e-4b96-a4c7-63626dcbe261",
   "metadata": {},
   "outputs": [],
   "source": [
    "#| hide\n",
    "import nbdev; nbdev.nbdev_export()"
   ]
  }
 ],
 "metadata": {
  "kernelspec": {
   "display_name": "python3",
   "language": "python",
   "name": "python3"
  }
 },
 "nbformat": 4,
 "nbformat_minor": 5
}
